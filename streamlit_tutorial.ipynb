{
 "cells": [
  {
   "cell_type": "code",
   "execution_count": 4,
   "id": "f6030d02",
   "metadata": {},
   "outputs": [],
   "source": [
    "import streamlit as st\n",
    "\n",
    "# Function to predict output based on user inputs\n",
    "def predict_output(input_df):\n",
    "    # Placeholder implementation\n",
    "    # Replace this with your trained model's prediction logic\n",
    "    \n",
    "    #pred = float(LNM_model.predict(input_df))\n",
    "    #return pred\n",
    "    \n",
    "    # dummy \"model\" for dummy deployment app - June 2023\n",
    "    return input_df.sum(axis=1)\n",
    "\n",
    "def main():\n",
    "    # Set page title\n",
    "    st.title(\"Numerical Output Prediction\")\n",
    "\n",
    "    # Add input fields for user to enter feature values\n",
    "    pirads = st.selectbox(\"PIRADS score\", options=[1, 2, 3, 4, 5])\n",
    "    age = st.number_input(\"Age\", min_value=0, max_value=120, value=60)\n",
    "    psa = st.number_input(\"PSA (ng/mL)\", min_value=0.0, value=1.0)\n",
    "    vol = st.number_input(\"Prostate volume (cm^3)\", min_value=10.0, max_value=200.0, value=10.0)\n",
    "    adeno = st.radio(\"Adenopathy? (0=No/1=Yes)\", options=[0, 1])\n",
    "    grade = st.selectbox(\"Biopsy grade\", options=[1, 2, 3, 4, 5])\n",
    "    \n",
    "    race = st.radio(\"Race\", (\"White\", \"Black\", \"Asian\", \"Unknown/Other\"), horizontal = True)\n",
    "    white = (race == \"White\") * 1\n",
    "    black = (race == \"Black\") * 1\n",
    "    asian = (race == \"Asian\") * 1\n",
    "    other = (race == \"Unknown/Other\") * 1\n",
    "    \n",
    "    input_dict = {\"P_Score\": pirads, \"Age at RP\": age, \"PSA\": psa\n",
    "                 \"prostate_volume\": vol, \"adenopathy\": adeno, \n",
    "                 \"overall_grade_merged\": grade, \"race_cat_White\": white,\n",
    "                 \"race_cat_Black\": black, \"race_cat_asian\": asian, \n",
    "                 \"race_cat_Unknown/other\": Unknown/Other}\n",
    "\n",
    "    input_df = pd.DataFrame([input_dict])\n",
    "    \n",
    "    center_button = st.button(\"Estimate\")\n",
    "    \n",
    "    if center_button:\n",
    "\n",
    "        # Predict the output based on user inputs\n",
    "        output = predict_output(input_df)\n",
    "   \n",
    "        # Display the predicted output\n",
    "        st.write(\"Lymph node metastasis?\", output)\n",
    "\n",
    "if __name__ == \"__main__\":\n",
    "    main()"
   ]
  }
 ],
 "metadata": {
  "kernelspec": {
   "display_name": "Python 3 (ipykernel)",
   "language": "python",
   "name": "python3"
  },
  "language_info": {
   "codemirror_mode": {
    "name": "ipython",
    "version": 3
   },
   "file_extension": ".py",
   "mimetype": "text/x-python",
   "name": "python",
   "nbconvert_exporter": "python",
   "pygments_lexer": "ipython3",
   "version": "3.9.12"
  }
 },
 "nbformat": 4,
 "nbformat_minor": 5
}
